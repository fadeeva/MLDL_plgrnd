{
  "nbformat": 4,
  "nbformat_minor": 0,
  "metadata": {
    "colab": {
      "provenance": [],
      "toc_visible": true,
      "authorship_tag": "ABX9TyPLFahsjJa1iRs+Gev/BzEk"
    },
    "kernelspec": {
      "name": "python3",
      "display_name": "Python 3"
    },
    "language_info": {
      "name": "python"
    }
  },
  "cells": [
    {
      "cell_type": "code",
      "source": [
        "from itertools import islice\n",
        "from collections import defaultdict\n",
        "\n",
        "import pandas as pd\n",
        "import numpy as np"
      ],
      "metadata": {
        "id": "gdTj1gK13smS"
      },
      "execution_count": 1,
      "outputs": []
    },
    {
      "cell_type": "markdown",
      "source": [
        "## Corpus"
      ],
      "metadata": {
        "id": "t9ee6Ze50Ixr"
      }
    },
    {
      "cell_type": "code",
      "source": [
        "import kagglehub\n",
        "\n",
        "# Download latest version\n",
        "path = kagglehub.dataset_download(\"manashjyotiborah/top-10000-movies-hosted-on-tmdb\")"
      ],
      "metadata": {
        "id": "XiztdtSU1D6y",
        "outputId": "6663878d-5f37-45f3-e468-0c34c62e42d5",
        "colab": {
          "base_uri": "https://localhost:8080/"
        }
      },
      "execution_count": 2,
      "outputs": [
        {
          "output_type": "stream",
          "name": "stdout",
          "text": [
            "Downloading from https://www.kaggle.com/api/v1/datasets/download/manashjyotiborah/top-10000-movies-hosted-on-tmdb?dataset_version_number=2...\n"
          ]
        },
        {
          "output_type": "stream",
          "name": "stderr",
          "text": [
            "100%|██████████| 16.9M/16.9M [00:00<00:00, 77.4MB/s]"
          ]
        },
        {
          "output_type": "stream",
          "name": "stdout",
          "text": [
            "Extracting files...\n"
          ]
        },
        {
          "output_type": "stream",
          "name": "stderr",
          "text": [
            "\n"
          ]
        }
      ]
    },
    {
      "cell_type": "code",
      "source": [
        "overview_df = pd.read_csv(f'{path}/movies_dataset.csv', index_col='id')\n",
        "overview_df.dropna(axis=0, inplace=True)\n",
        "\n",
        "corpus = overview_df['overview'].to_list()\n",
        "corpus[:3]"
      ],
      "metadata": {
        "colab": {
          "base_uri": "https://localhost:8080/"
        },
        "id": "f-WrCQWU3nZk",
        "outputId": "4d580417-14db-4cfc-d521-65b4a852a333"
      },
      "execution_count": 3,
      "outputs": [
        {
          "output_type": "execute_result",
          "data": {
            "text/plain": [
              "[\"Over many missions and against impossible odds, Dom Toretto and his family have outsmarted, out-nerved and outdriven every foe in their path. Now, they confront the most lethal opponent they've ever faced: A terrifying threat emerging from the shadows of the past who's fueled by blood revenge, and who is determined to shatter this family and destroy everything—and everyone—that Dom loves, forever.\",\n",
              " \"Tasked with extracting a family who is at the mercy of a Georgian gangster, Tyler Rake infiltrates one of the world's deadliest prisons in order to save them. But when the extraction gets hot, and the gangster dies in the heat of battle, his equally ruthless brother tracks down Rake and his team to Sydney, in order to get revenge.\",\n",
              " 'With the price on his head ever increasing, John Wick uncovers a path to defeating The High Table. But before he can earn his freedom, Wick must face off against a new enemy with powerful alliances across the globe and forces that turn old friends into foes.']"
            ]
          },
          "metadata": {},
          "execution_count": 3
        }
      ]
    },
    {
      "cell_type": "code",
      "source": [
        "toy_corpus = [\n",
        "    'This is the first document.',\n",
        "    'This document is the second document.',\n",
        "    'And this is the third one.',\n",
        "    'Is this the first document?',\n",
        "]"
      ],
      "metadata": {
        "id": "nXEpv0H9wV1t"
      },
      "execution_count": 15,
      "outputs": []
    },
    {
      "cell_type": "markdown",
      "source": [
        "## Tokenization"
      ],
      "metadata": {
        "id": "UXiBNYimRZxo"
      }
    },
    {
      "cell_type": "markdown",
      "source": [
        "Source: https://github.com/vukrosic/courses/tree/main/llama4"
      ],
      "metadata": {
        "id": "_dckSzu298cn"
      }
    },
    {
      "cell_type": "code",
      "source": [
        "# Helpers\n",
        "\n",
        "def get_slice(d:dict, n:int)->list:\n",
        "    return [(key, val) for key, val in zip(range(n), d.items())]\n"
      ],
      "metadata": {
        "id": "OeTmeHnZ8LS-"
      },
      "execution_count": 4,
      "outputs": []
    },
    {
      "cell_type": "code",
      "source": [
        "end_of_word = '/w'"
      ],
      "metadata": {
        "id": "jlQ-EfmQ7_X_"
      },
      "execution_count": 5,
      "outputs": []
    },
    {
      "cell_type": "code",
      "source": [
        "def get_unique_chars(corpus):\n",
        "    unique_chars = set()\n",
        "    for overview in corpus:\n",
        "        for char in overview:\n",
        "            unique_chars.add(char)\n",
        "\n",
        "    vocab = list(unique_chars)\n",
        "    vocab.sort()\n",
        "    vocab.append(end_of_word)\n",
        "\n",
        "    return vocab\n"
      ],
      "metadata": {
        "id": "L32LHGbz4Jt2"
      },
      "execution_count": 16,
      "outputs": []
    },
    {
      "cell_type": "code",
      "source": [
        "vocab = get_unique_chars(corpus)\n",
        "print(vocab[:10], len(vocab), sep='\\n')"
      ],
      "metadata": {
        "id": "kD-Zt38hw7Ss",
        "outputId": "6667f2cd-44ab-4caf-9d88-486e9d97cf22",
        "colab": {
          "base_uri": "https://localhost:8080/"
        }
      },
      "execution_count": 22,
      "outputs": [
        {
          "output_type": "stream",
          "name": "stdout",
          "text": [
            "['\\r', ' ', '!', '\"', '#', '$', '%', '&', \"'\", '(']\n",
            "129\n"
          ]
        }
      ]
    },
    {
      "cell_type": "code",
      "source": [
        "toy_vocab = get_unique_chars(toy_corpus)\n",
        "print(toy_vocab, len(toy_vocab), sep='\\n')"
      ],
      "metadata": {
        "id": "5iwUN-xvxCN7",
        "outputId": "5f26bfbf-ab8c-4b30-a1f3-df5e8ec84244",
        "colab": {
          "base_uri": "https://localhost:8080/"
        }
      },
      "execution_count": 21,
      "outputs": [
        {
          "output_type": "stream",
          "name": "stdout",
          "text": [
            "[' ', '.', '?', 'A', 'I', 'T', 'c', 'd', 'e', 'f', 'h', 'i', 'm', 'n', 'o', 'r', 's', 't', 'u', '/w']\n",
            "20\n"
          ]
        }
      ]
    },
    {
      "cell_type": "code",
      "source": [
        "def get_word_splits(corpus):\n",
        "    word_splits = defaultdict(int)\n",
        "    for doc in corpus:\n",
        "        for word in doc.split(' '):\n",
        "            if word:\n",
        "                word_tuple = tuple(list(word) + [end_of_word])\n",
        "                word_splits[word_tuple] += 1\n",
        "\n",
        "    return word_splits\n"
      ],
      "metadata": {
        "id": "TivMQNflqLzy"
      },
      "execution_count": 23,
      "outputs": []
    },
    {
      "cell_type": "code",
      "source": [
        "word_splits = get_word_splits(corpus)\n",
        "get_slice(word_splits, 10)"
      ],
      "metadata": {
        "id": "Mp3dvOgExiai",
        "outputId": "5aece424-fbff-4758-9a67-817d9ca0b64f",
        "colab": {
          "base_uri": "https://localhost:8080/"
        }
      },
      "execution_count": 24,
      "outputs": [
        {
          "output_type": "execute_result",
          "data": {
            "text/plain": [
              "[(0, (('O', 'v', 'e', 'r', '/w'), 17)),\n",
              " (1, (('m', 'a', 'n', 'y', '/w'), 104)),\n",
              " (2, (('m', 'i', 's', 's', 'i', 'o', 'n', 's', '/w'), 14)),\n",
              " (3, (('a', 'n', 'd', '/w'), 13235)),\n",
              " (4, (('a', 'g', 'a', 'i', 'n', 's', 't', '/w'), 470)),\n",
              " (5, (('i', 'm', 'p', 'o', 's', 's', 'i', 'b', 'l', 'e', '/w'), 48)),\n",
              " (6, (('o', 'd', 'd', 's', ',', '/w'), 17)),\n",
              " (7, (('D', 'o', 'm', '/w'), 7)),\n",
              " (8, (('T', 'o', 'r', 'e', 't', 't', 'o', '/w'), 4)),\n",
              " (9, (('h', 'i', 's', '/w'), 6924))]"
            ]
          },
          "metadata": {},
          "execution_count": 24
        }
      ]
    },
    {
      "cell_type": "code",
      "source": [
        "toy_word_splits = get_word_splits(toy_corpus)\n",
        "toy_word_splits"
      ],
      "metadata": {
        "id": "n7yeJ-0dxoK-",
        "outputId": "45977fdb-8bc1-416c-ca8a-f8ed1a348c15",
        "colab": {
          "base_uri": "https://localhost:8080/"
        }
      },
      "execution_count": 25,
      "outputs": [
        {
          "output_type": "execute_result",
          "data": {
            "text/plain": [
              "defaultdict(int,\n",
              "            {('T', 'h', 'i', 's', '/w'): 2,\n",
              "             ('i', 's', '/w'): 3,\n",
              "             ('t', 'h', 'e', '/w'): 4,\n",
              "             ('f', 'i', 'r', 's', 't', '/w'): 2,\n",
              "             ('d', 'o', 'c', 'u', 'm', 'e', 'n', 't', '.', '/w'): 2,\n",
              "             ('d', 'o', 'c', 'u', 'm', 'e', 'n', 't', '/w'): 1,\n",
              "             ('s', 'e', 'c', 'o', 'n', 'd', '/w'): 1,\n",
              "             ('A', 'n', 'd', '/w'): 1,\n",
              "             ('t', 'h', 'i', 's', '/w'): 2,\n",
              "             ('t', 'h', 'i', 'r', 'd', '/w'): 1,\n",
              "             ('o', 'n', 'e', '.', '/w'): 1,\n",
              "             ('I', 's', '/w'): 1,\n",
              "             ('d', 'o', 'c', 'u', 'm', 'e', 'n', 't', '?', '/w'): 1})"
            ]
          },
          "metadata": {},
          "execution_count": 25
        }
      ]
    },
    {
      "cell_type": "code",
      "source": [
        "def get_pair_stats(splits:dict)->list:\n",
        "    pair_counts = defaultdict(int)\n",
        "    for word_tuple, freq in splits.items():\n",
        "        symbols = list(word_tuple)\n",
        "        for i in range(len(symbols) - 1):\n",
        "            pair = (symbols[i], symbols[i+1])\n",
        "            pair_counts[pair] += freq\n",
        "    return pair_counts\n"
      ],
      "metadata": {
        "id": "9KfM_IDT8rMR"
      },
      "execution_count": 26,
      "outputs": []
    },
    {
      "cell_type": "code",
      "source": [
        "pair_stats = get_pair_stats(word_splits)\n",
        "get_slice(pair_stats, 10)"
      ],
      "metadata": {
        "id": "vGd8qgfnxzET",
        "outputId": "a7082663-4d1c-4e9e-b093-cd1272ee1b77",
        "colab": {
          "base_uri": "https://localhost:8080/"
        }
      },
      "execution_count": 27,
      "outputs": [
        {
          "output_type": "execute_result",
          "data": {
            "text/plain": [
              "[(0, (('O', 'v'), 30)),\n",
              " (1, (('v', 'e'), 15729)),\n",
              " (2, (('e', 'r'), 39971)),\n",
              " (3, (('r', '/w'), 28195)),\n",
              " (4, (('m', 'a'), 9653)),\n",
              " (5, (('a', 'n'), 37733)),\n",
              " (6, (('n', 'y'), 1236)),\n",
              " (7, (('y', '/w'), 22819)),\n",
              " (8, (('m', 'i'), 5564)),\n",
              " (9, (('i', 's'), 23459))]"
            ]
          },
          "metadata": {},
          "execution_count": 27
        }
      ]
    },
    {
      "cell_type": "code",
      "source": [
        "toy_pair_stats = get_pair_stats(toy_word_splits)\n",
        "toy_pair_stats"
      ],
      "metadata": {
        "id": "4QDdiyt8x1pr",
        "outputId": "087bce9c-5f74-4b0b-a995-31827eacf396",
        "colab": {
          "base_uri": "https://localhost:8080/"
        }
      },
      "execution_count": 28,
      "outputs": [
        {
          "output_type": "execute_result",
          "data": {
            "text/plain": [
              "defaultdict(int,\n",
              "            {('T', 'h'): 2,\n",
              "             ('h', 'i'): 5,\n",
              "             ('i', 's'): 7,\n",
              "             ('s', '/w'): 8,\n",
              "             ('t', 'h'): 7,\n",
              "             ('h', 'e'): 4,\n",
              "             ('e', '/w'): 4,\n",
              "             ('f', 'i'): 2,\n",
              "             ('i', 'r'): 3,\n",
              "             ('r', 's'): 2,\n",
              "             ('s', 't'): 2,\n",
              "             ('t', '/w'): 3,\n",
              "             ('d', 'o'): 4,\n",
              "             ('o', 'c'): 4,\n",
              "             ('c', 'u'): 4,\n",
              "             ('u', 'm'): 4,\n",
              "             ('m', 'e'): 4,\n",
              "             ('e', 'n'): 4,\n",
              "             ('n', 't'): 4,\n",
              "             ('t', '.'): 2,\n",
              "             ('.', '/w'): 3,\n",
              "             ('s', 'e'): 1,\n",
              "             ('e', 'c'): 1,\n",
              "             ('c', 'o'): 1,\n",
              "             ('o', 'n'): 2,\n",
              "             ('n', 'd'): 2,\n",
              "             ('d', '/w'): 3,\n",
              "             ('A', 'n'): 1,\n",
              "             ('r', 'd'): 1,\n",
              "             ('n', 'e'): 1,\n",
              "             ('e', '.'): 1,\n",
              "             ('I', 's'): 1,\n",
              "             ('t', '?'): 1,\n",
              "             ('?', '/w'): 1})"
            ]
          },
          "metadata": {},
          "execution_count": 28
        }
      ]
    },
    {
      "cell_type": "code",
      "source": [
        "def merge_pair(pair_to_merge:tuple, splits:dict)->list:\n",
        "    new_splits = {}\n",
        "    (first, second) = pair_to_merge\n",
        "    merged_token = first + second\n",
        "    for word_tuple, freq in splits.items():\n",
        "        symbols = list(word_tuple)\n",
        "        new_symbols = []\n",
        "        i = 0\n",
        "        while i < len(symbols):\n",
        "            if i < len(symbols) - 1 and symbols[i] == first and symbols[i+1] == second:\n",
        "                new_symbols.append(merged_token)\n",
        "                i += 2\n",
        "            else:\n",
        "                new_symbols.append(symbols[i])\n",
        "                i += 1\n",
        "        new_splits[tuple(new_symbols)] = freq\n",
        "    return new_splits\n"
      ],
      "metadata": {
        "id": "xSM_GPa0pnB7"
      },
      "execution_count": 12,
      "outputs": []
    },
    {
      "cell_type": "code",
      "source": [
        "num_merges = 15\n",
        "# Stores merge rules, e.g., {('a', 'b'): 'ab'}\n",
        "# Example: {('T', 'h'): 'Th'}\n",
        "merges = {}\n",
        "# Initial word splits: {('T', 'h', 'i', 's', '</w>'): 2, ('i', 's', '</w>'): 2, ...}\n",
        "current_splits = word_splits.copy() # Start with initial word splits\n",
        "\n",
        "print(\"\\n--- Starting BPE Merges ---\")\n",
        "print('Initial Splits:')\n",
        "print(*get_slice(current_splits, 10), sep='\\n')\n",
        "print(\"-\" * 30)"
      ],
      "metadata": {
        "id": "4HtpKAZ59sYr",
        "outputId": "cd07aa25-0879-42a6-cd9c-30beb7bc845d",
        "colab": {
          "base_uri": "https://localhost:8080/"
        }
      },
      "execution_count": 10,
      "outputs": [
        {
          "output_type": "stream",
          "name": "stdout",
          "text": [
            "\n",
            "--- Starting BPE Merges ---\n",
            "Initial Splits:\n",
            "(0, (('O', 'v', 'e', 'r', '/w'), 17))\n",
            "(1, (('m', 'a', 'n', 'y', '/w'), 104))\n",
            "(2, (('m', 'i', 's', 's', 'i', 'o', 'n', 's', '/w'), 14))\n",
            "(3, (('a', 'n', 'd', '/w'), 13235))\n",
            "(4, (('a', 'g', 'a', 'i', 'n', 's', 't', '/w'), 470))\n",
            "(5, (('i', 'm', 'p', 'o', 's', 's', 'i', 'b', 'l', 'e', '/w'), 48))\n",
            "(6, (('o', 'd', 'd', 's', ',', '/w'), 17))\n",
            "(7, (('D', 'o', 'm', '/w'), 7))\n",
            "(8, (('T', 'o', 'r', 'e', 't', 't', 'o', '/w'), 4))\n",
            "(9, (('h', 'i', 's', '/w'), 6924))\n",
            "------------------------------\n"
          ]
        }
      ]
    },
    {
      "cell_type": "code",
      "source": [
        "corpus[0]"
      ],
      "metadata": {
        "id": "lpWFN_B2P_Ne",
        "outputId": "6068e704-749b-4c7d-b5fa-460bbaaa2904",
        "colab": {
          "base_uri": "https://localhost:8080/",
          "height": 70
        }
      },
      "execution_count": null,
      "outputs": [
        {
          "output_type": "execute_result",
          "data": {
            "text/plain": [
              "\"Over many missions and against impossible odds, Dom Toretto and his family have outsmarted, out-nerved and outdriven every foe in their path. Now, they confront the most lethal opponent they've ever faced: A terrifying threat emerging from the shadows of the past who's fueled by blood revenge, and who is determined to shatter this family and destroy everything—and everyone—that Dom loves, forever.\""
            ],
            "application/vnd.google.colaboratory.intrinsic+json": {
              "type": "string"
            }
          },
          "metadata": {},
          "execution_count": 17
        }
      ]
    },
    {
      "cell_type": "code",
      "source": [
        "for i, word in enumerate(corpus[0].split()):\n",
        "    print(tuple(list(word)+[end_of_word]))\n",
        "    if i>9: break"
      ],
      "metadata": {
        "id": "9E1YO4hAQjnz",
        "outputId": "6c628ea1-efd9-4f26-9354-08554a1f030b",
        "colab": {
          "base_uri": "https://localhost:8080/"
        }
      },
      "execution_count": null,
      "outputs": [
        {
          "output_type": "stream",
          "name": "stdout",
          "text": [
            "('O', 'v', 'e', 'r', '/w')\n",
            "('m', 'a', 'n', 'y', '/w')\n",
            "('m', 'i', 's', 's', 'i', 'o', 'n', 's', '/w')\n",
            "('a', 'n', 'd', '/w')\n",
            "('a', 'g', 'a', 'i', 'n', 's', 't', '/w')\n",
            "('i', 'm', 'p', 'o', 's', 's', 'i', 'b', 'l', 'e', '/w')\n",
            "('o', 'd', 'd', 's', ',', '/w')\n",
            "('D', 'o', 'm', '/w')\n",
            "('T', 'o', 'r', 'e', 't', 't', 'o', '/w')\n",
            "('a', 'n', 'd', '/w')\n",
            "('h', 'i', 's', '/w')\n"
          ]
        }
      ]
    },
    {
      "cell_type": "code",
      "source": [],
      "metadata": {
        "id": "qWwP5oVmQvMl"
      },
      "execution_count": null,
      "outputs": []
    }
  ]
}