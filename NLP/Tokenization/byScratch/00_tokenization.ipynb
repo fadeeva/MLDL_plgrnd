{
  "nbformat": 4,
  "nbformat_minor": 0,
  "metadata": {
    "colab": {
      "provenance": [],
      "authorship_tag": "ABX9TyMxaTtqx4VzpTEKffeT3GSy"
    },
    "kernelspec": {
      "name": "python3",
      "display_name": "Python 3"
    },
    "language_info": {
      "name": "python"
    }
  },
  "cells": [
    {
      "cell_type": "code",
      "source": [
        "from itertools import islice\n",
        "from collections import defaultdict\n",
        "\n",
        "import pandas as pd\n",
        "import numpy as np"
      ],
      "metadata": {
        "id": "gdTj1gK13smS"
      },
      "execution_count": 9,
      "outputs": []
    },
    {
      "cell_type": "markdown",
      "source": [
        "## Corpus"
      ],
      "metadata": {
        "id": "t9ee6Ze50Ixr"
      }
    },
    {
      "cell_type": "code",
      "source": [
        "import kagglehub\n",
        "\n",
        "# Download latest version\n",
        "path = kagglehub.dataset_download(\"manashjyotiborah/top-10000-movies-hosted-on-tmdb\")"
      ],
      "metadata": {
        "colab": {
          "base_uri": "https://localhost:8080/"
        },
        "id": "XiztdtSU1D6y",
        "outputId": "a59e47ee-f608-4b47-e9d4-712814e579b5"
      },
      "execution_count": 2,
      "outputs": [
        {
          "output_type": "stream",
          "name": "stdout",
          "text": [
            "Downloading from https://www.kaggle.com/api/v1/datasets/download/manashjyotiborah/top-10000-movies-hosted-on-tmdb?dataset_version_number=2...\n"
          ]
        },
        {
          "output_type": "stream",
          "name": "stderr",
          "text": [
            "100%|██████████| 16.9M/16.9M [00:00<00:00, 91.8MB/s]"
          ]
        },
        {
          "output_type": "stream",
          "name": "stdout",
          "text": [
            "Extracting files...\n"
          ]
        },
        {
          "output_type": "stream",
          "name": "stderr",
          "text": [
            "\n"
          ]
        }
      ]
    },
    {
      "cell_type": "code",
      "source": [
        "overview_df = pd.read_csv(f'{path}/movies_dataset.csv', index_col='id')\n",
        "overview_df.dropna(axis=0, inplace=True)\n",
        "\n",
        "corpus = overview_df['overview'].to_list()\n",
        "corpus[:3]"
      ],
      "metadata": {
        "colab": {
          "base_uri": "https://localhost:8080/"
        },
        "id": "f-WrCQWU3nZk",
        "outputId": "1b2743c6-a595-42d0-92ea-0bd760f67dac"
      },
      "execution_count": 3,
      "outputs": [
        {
          "output_type": "execute_result",
          "data": {
            "text/plain": [
              "[\"Over many missions and against impossible odds, Dom Toretto and his family have outsmarted, out-nerved and outdriven every foe in their path. Now, they confront the most lethal opponent they've ever faced: A terrifying threat emerging from the shadows of the past who's fueled by blood revenge, and who is determined to shatter this family and destroy everything—and everyone—that Dom loves, forever.\",\n",
              " \"Tasked with extracting a family who is at the mercy of a Georgian gangster, Tyler Rake infiltrates one of the world's deadliest prisons in order to save them. But when the extraction gets hot, and the gangster dies in the heat of battle, his equally ruthless brother tracks down Rake and his team to Sydney, in order to get revenge.\",\n",
              " 'With the price on his head ever increasing, John Wick uncovers a path to defeating The High Table. But before he can earn his freedom, Wick must face off against a new enemy with powerful alliances across the globe and forces that turn old friends into foes.']"
            ]
          },
          "metadata": {},
          "execution_count": 3
        }
      ]
    },
    {
      "cell_type": "markdown",
      "source": [
        "## Tokenization"
      ],
      "metadata": {
        "id": "UXiBNYimRZxo"
      }
    },
    {
      "cell_type": "code",
      "source": [
        "end_of_word = '/w'"
      ],
      "metadata": {
        "id": "jlQ-EfmQ7_X_"
      },
      "execution_count": 4,
      "outputs": []
    },
    {
      "cell_type": "code",
      "source": [
        "unique_chars = set()\n",
        "for overview in corpus:\n",
        "    for char in overview:\n",
        "        unique_chars.add(char)\n",
        "\n",
        "vocab = list(unique_chars)\n",
        "vocab.sort()\n",
        "vocab.append(end_of_word)\n",
        "\n",
        "vocab[:10], len(vocab)"
      ],
      "metadata": {
        "colab": {
          "base_uri": "https://localhost:8080/"
        },
        "id": "L32LHGbz4Jt2",
        "outputId": "f7dc65ec-ffc0-42f5-8309-832d1ab9596c"
      },
      "execution_count": 5,
      "outputs": [
        {
          "output_type": "execute_result",
          "data": {
            "text/plain": [
              "(['\\r', ' ', '!', '\"', '#', '$', '%', '&', \"'\", '('], 129)"
            ]
          },
          "metadata": {},
          "execution_count": 5
        }
      ]
    },
    {
      "cell_type": "code",
      "source": [
        "word_splits = defaultdict(int)\n",
        "for overview in corpus:\n",
        "    words = overview.split()\n",
        "    for word in words:\n",
        "        if word:\n",
        "            char_list = [word] + [end_of_word]\n",
        "            word_tuple = tuple(char_list)\n",
        "\n",
        "            word_splits[word_tuple] += 1\n",
        "\n",
        "\n",
        "len(word_splits)"
      ],
      "metadata": {
        "colab": {
          "base_uri": "https://localhost:8080/"
        },
        "id": "4ML-DPqd7C7k",
        "outputId": "2d23298e-aa3e-4d15-ebfe-1b999078d9bf"
      },
      "execution_count": 6,
      "outputs": [
        {
          "output_type": "execute_result",
          "data": {
            "text/plain": [
              "49896"
            ]
          },
          "metadata": {},
          "execution_count": 6
        }
      ]
    },
    {
      "cell_type": "code",
      "source": [
        "list(islice(word_splits, 10))"
      ],
      "metadata": {
        "id": "lrpuPVpSppz5",
        "outputId": "1274b268-6013-48b2-f557-7fd2ffe3fa6e",
        "colab": {
          "base_uri": "https://localhost:8080/"
        }
      },
      "execution_count": 10,
      "outputs": [
        {
          "output_type": "execute_result",
          "data": {
            "text/plain": [
              "[('Over', '/w'),\n",
              " ('many', '/w'),\n",
              " ('missions', '/w'),\n",
              " ('and', '/w'),\n",
              " ('against', '/w'),\n",
              " ('impossible', '/w'),\n",
              " ('odds,', '/w'),\n",
              " ('Dom', '/w'),\n",
              " ('Toretto', '/w'),\n",
              " ('his', '/w')]"
            ]
          },
          "metadata": {},
          "execution_count": 10
        }
      ]
    },
    {
      "cell_type": "code",
      "source": [
        "word_splits = {}\n",
        "for doc in corpus:\n",
        "    words = doc.split(' ')\n",
        "    for word in words:\n",
        "        if word:\n",
        "            char_list = list(word) + [end_of_word]\n",
        "            word_tuple = tuple(char_list)\n",
        "            if word_tuple not in word_splits:\n",
        "                 word_splits[word_tuple] = 0\n",
        "            word_splits[word_tuple] += 1\n",
        "\n",
        "list(islice(word_splits, 10))"
      ],
      "metadata": {
        "id": "TivMQNflqLzy",
        "outputId": "3aaef844-5e2e-4d46-a789-df1a9c0eb1a3",
        "colab": {
          "base_uri": "https://localhost:8080/"
        }
      },
      "execution_count": 11,
      "outputs": [
        {
          "output_type": "execute_result",
          "data": {
            "text/plain": [
              "[('O', 'v', 'e', 'r', '/w'),\n",
              " ('m', 'a', 'n', 'y', '/w'),\n",
              " ('m', 'i', 's', 's', 'i', 'o', 'n', 's', '/w'),\n",
              " ('a', 'n', 'd', '/w'),\n",
              " ('a', 'g', 'a', 'i', 'n', 's', 't', '/w'),\n",
              " ('i', 'm', 'p', 'o', 's', 's', 'i', 'b', 'l', 'e', '/w'),\n",
              " ('o', 'd', 'd', 's', ',', '/w'),\n",
              " ('D', 'o', 'm', '/w'),\n",
              " ('T', 'o', 'r', 'e', 't', 't', 'o', '/w'),\n",
              " ('h', 'i', 's', '/w')]"
            ]
          },
          "metadata": {},
          "execution_count": 11
        }
      ]
    },
    {
      "cell_type": "code",
      "source": [
        "def get_pair_stats(splits):\n",
        "    pair_counts = defaultdict(int)\n",
        "    for word_tuple, freq in splits.items():\n",
        "        symbols = list(word_tuple)\n",
        "        for i in range(len(symbols) - 1):\n",
        "            pair = (symbols[i], symbols[i+1])\n",
        "            pair_counts[pair] += freq\n",
        "    return pair_counts\n",
        "\n",
        "pair_stats = get_pair_stats(word_splits)\n",
        "\n",
        "list(islice(pair_stats, 10))"
      ],
      "metadata": {
        "id": "9KfM_IDT8rMR",
        "outputId": "8738e731-7c8c-4036-a39c-7274676bdd75",
        "colab": {
          "base_uri": "https://localhost:8080/"
        }
      },
      "execution_count": 12,
      "outputs": [
        {
          "output_type": "execute_result",
          "data": {
            "text/plain": [
              "[('O', 'v'),\n",
              " ('v', 'e'),\n",
              " ('e', 'r'),\n",
              " ('r', '/w'),\n",
              " ('m', 'a'),\n",
              " ('a', 'n'),\n",
              " ('n', 'y'),\n",
              " ('y', '/w'),\n",
              " ('m', 'i'),\n",
              " ('i', 's')]"
            ]
          },
          "metadata": {},
          "execution_count": 12
        }
      ]
    },
    {
      "cell_type": "code",
      "source": [],
      "metadata": {
        "id": "xSM_GPa0pnB7"
      },
      "execution_count": null,
      "outputs": []
    }
  ]
}