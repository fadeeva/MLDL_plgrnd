{
  "nbformat": 4,
  "nbformat_minor": 0,
  "metadata": {
    "colab": {
      "provenance": [],
      "toc_visible": true,
      "authorship_tag": "ABX9TyNvdQ0cyjIc7BE6rACkdkXT"
    },
    "kernelspec": {
      "name": "python3",
      "display_name": "Python 3"
    },
    "language_info": {
      "name": "python"
    }
  },
  "cells": [
    {
      "cell_type": "code",
      "source": [
        "from itertools import islice\n",
        "from collections import defaultdict\n",
        "\n",
        "import pandas as pd\n",
        "import numpy as np"
      ],
      "metadata": {
        "id": "gdTj1gK13smS"
      },
      "execution_count": 1,
      "outputs": []
    },
    {
      "cell_type": "markdown",
      "source": [
        "## Corpus"
      ],
      "metadata": {
        "id": "t9ee6Ze50Ixr"
      }
    },
    {
      "cell_type": "code",
      "source": [
        "import kagglehub\n",
        "\n",
        "# Download latest version\n",
        "path = kagglehub.dataset_download(\"manashjyotiborah/top-10000-movies-hosted-on-tmdb\")"
      ],
      "metadata": {
        "id": "XiztdtSU1D6y",
        "outputId": "d136341a-ea9b-49a4-ba10-d87625a15abc",
        "colab": {
          "base_uri": "https://localhost:8080/"
        }
      },
      "execution_count": 2,
      "outputs": [
        {
          "output_type": "stream",
          "name": "stdout",
          "text": [
            "Downloading from https://www.kaggle.com/api/v1/datasets/download/manashjyotiborah/top-10000-movies-hosted-on-tmdb?dataset_version_number=2...\n"
          ]
        },
        {
          "output_type": "stream",
          "name": "stderr",
          "text": [
            "100%|██████████| 16.9M/16.9M [00:00<00:00, 141MB/s]"
          ]
        },
        {
          "output_type": "stream",
          "name": "stdout",
          "text": [
            "Extracting files...\n"
          ]
        },
        {
          "output_type": "stream",
          "name": "stderr",
          "text": [
            "\n"
          ]
        }
      ]
    },
    {
      "cell_type": "code",
      "source": [
        "overview_df = pd.read_csv(f'{path}/movies_dataset.csv', index_col='id')\n",
        "overview_df.dropna(axis=0, inplace=True)\n",
        "\n",
        "corpus = overview_df['overview'].to_list()\n",
        "corpus[:3]"
      ],
      "metadata": {
        "colab": {
          "base_uri": "https://localhost:8080/"
        },
        "id": "f-WrCQWU3nZk",
        "outputId": "88041f51-b3c1-4571-f67f-ef448160e7bc"
      },
      "execution_count": 3,
      "outputs": [
        {
          "output_type": "execute_result",
          "data": {
            "text/plain": [
              "[\"Over many missions and against impossible odds, Dom Toretto and his family have outsmarted, out-nerved and outdriven every foe in their path. Now, they confront the most lethal opponent they've ever faced: A terrifying threat emerging from the shadows of the past who's fueled by blood revenge, and who is determined to shatter this family and destroy everything—and everyone—that Dom loves, forever.\",\n",
              " \"Tasked with extracting a family who is at the mercy of a Georgian gangster, Tyler Rake infiltrates one of the world's deadliest prisons in order to save them. But when the extraction gets hot, and the gangster dies in the heat of battle, his equally ruthless brother tracks down Rake and his team to Sydney, in order to get revenge.\",\n",
              " 'With the price on his head ever increasing, John Wick uncovers a path to defeating The High Table. But before he can earn his freedom, Wick must face off against a new enemy with powerful alliances across the globe and forces that turn old friends into foes.']"
            ]
          },
          "metadata": {},
          "execution_count": 3
        }
      ]
    },
    {
      "cell_type": "markdown",
      "source": [
        "## Tokenization"
      ],
      "metadata": {
        "id": "UXiBNYimRZxo"
      }
    },
    {
      "cell_type": "markdown",
      "source": [
        "Source: https://github.com/vukrosic/courses/tree/main/llama4"
      ],
      "metadata": {
        "id": "_dckSzu298cn"
      }
    },
    {
      "cell_type": "code",
      "source": [
        "end_of_word = '/w'"
      ],
      "metadata": {
        "id": "jlQ-EfmQ7_X_"
      },
      "execution_count": 4,
      "outputs": []
    },
    {
      "cell_type": "code",
      "source": [
        "unique_chars = set()\n",
        "for overview in corpus:\n",
        "    for char in overview:\n",
        "        unique_chars.add(char)\n",
        "\n",
        "vocab = list(unique_chars)\n",
        "vocab.sort()\n",
        "vocab.append(end_of_word)\n",
        "\n",
        "vocab[:10], len(vocab)"
      ],
      "metadata": {
        "colab": {
          "base_uri": "https://localhost:8080/"
        },
        "id": "L32LHGbz4Jt2",
        "outputId": "1f386fd9-b036-49ea-b545-683393a5591f"
      },
      "execution_count": 5,
      "outputs": [
        {
          "output_type": "execute_result",
          "data": {
            "text/plain": [
              "(['\\r', ' ', '!', '\"', '#', '$', '%', '&', \"'\", '('], 129)"
            ]
          },
          "metadata": {},
          "execution_count": 5
        }
      ]
    },
    {
      "cell_type": "code",
      "source": [
        "word_splits = defaultdict(int)\n",
        "for overview in corpus:\n",
        "    words = overview.split()\n",
        "    for word in words:\n",
        "        if word:\n",
        "            char_list = [word] + [end_of_word]\n",
        "            word_tuple = tuple(char_list)\n",
        "\n",
        "            word_splits[word_tuple] += 1\n",
        "\n",
        "\n",
        "len(word_splits)"
      ],
      "metadata": {
        "colab": {
          "base_uri": "https://localhost:8080/"
        },
        "id": "4ML-DPqd7C7k",
        "outputId": "a7afb6ab-2b78-48ca-e99c-f1891191cfb1"
      },
      "execution_count": 6,
      "outputs": [
        {
          "output_type": "execute_result",
          "data": {
            "text/plain": [
              "49896"
            ]
          },
          "metadata": {},
          "execution_count": 6
        }
      ]
    },
    {
      "cell_type": "code",
      "source": [
        "list(islice(word_splits, 10))"
      ],
      "metadata": {
        "id": "lrpuPVpSppz5",
        "outputId": "8ee34f07-1db2-4546-908d-edf2079461b7",
        "colab": {
          "base_uri": "https://localhost:8080/"
        }
      },
      "execution_count": 7,
      "outputs": [
        {
          "output_type": "execute_result",
          "data": {
            "text/plain": [
              "[('Over', '/w'),\n",
              " ('many', '/w'),\n",
              " ('missions', '/w'),\n",
              " ('and', '/w'),\n",
              " ('against', '/w'),\n",
              " ('impossible', '/w'),\n",
              " ('odds,', '/w'),\n",
              " ('Dom', '/w'),\n",
              " ('Toretto', '/w'),\n",
              " ('his', '/w')]"
            ]
          },
          "metadata": {},
          "execution_count": 7
        }
      ]
    },
    {
      "cell_type": "code",
      "source": [
        "word_splits = defaultdict(int)\n",
        "for doc in corpus:\n",
        "    for word in doc.split(' '):\n",
        "        if word:\n",
        "            word_tuple = tuple(list(word) + [end_of_word])\n",
        "            word_splits[word_tuple] += 1\n",
        "\n",
        "list(islice(word_splits, 10))"
      ],
      "metadata": {
        "id": "TivMQNflqLzy",
        "outputId": "5d403fe0-a6c3-4a3e-f54a-6b4328705f07",
        "colab": {
          "base_uri": "https://localhost:8080/"
        }
      },
      "execution_count": 43,
      "outputs": [
        {
          "output_type": "execute_result",
          "data": {
            "text/plain": [
              "[('O', 'v', 'e', 'r', '/w'),\n",
              " ('m', 'a', 'n', 'y', '/w'),\n",
              " ('m', 'i', 's', 's', 'i', 'o', 'n', 's', '/w'),\n",
              " ('a', 'n', 'd', '/w'),\n",
              " ('a', 'g', 'a', 'i', 'n', 's', 't', '/w'),\n",
              " ('i', 'm', 'p', 'o', 's', 's', 'i', 'b', 'l', 'e', '/w'),\n",
              " ('o', 'd', 'd', 's', ',', '/w'),\n",
              " ('D', 'o', 'm', '/w'),\n",
              " ('T', 'o', 'r', 'e', 't', 't', 'o', '/w'),\n",
              " ('h', 'i', 's', '/w')]"
            ]
          },
          "metadata": {},
          "execution_count": 43
        }
      ]
    },
    {
      "cell_type": "code",
      "source": [
        "def get_pair_stats(splits:dict)->list:\n",
        "    pair_counts = defaultdict(int)\n",
        "    for word_tuple, freq in splits.items():\n",
        "        symbols = list(word_tuple)\n",
        "        for i in range(len(symbols) - 1):\n",
        "            pair = (symbols[i], symbols[i+1])\n",
        "            pair_counts[pair] += freq\n",
        "    return pair_counts\n",
        "\n",
        "pair_stats = get_pair_stats(word_splits)\n",
        "\n",
        "list(islice(pair_stats, 10))"
      ],
      "metadata": {
        "id": "9KfM_IDT8rMR",
        "outputId": "c07c7206-7ea3-4efd-dafc-70a5d129946f",
        "colab": {
          "base_uri": "https://localhost:8080/"
        }
      },
      "execution_count": 39,
      "outputs": [
        {
          "output_type": "execute_result",
          "data": {
            "text/plain": [
              "[('O', 'v'),\n",
              " ('v', 'e'),\n",
              " ('e', 'r'),\n",
              " ('r', '/w'),\n",
              " ('m', 'a'),\n",
              " ('a', 'n'),\n",
              " ('n', 'y'),\n",
              " ('y', '/w'),\n",
              " ('m', 'i'),\n",
              " ('i', 's')]"
            ]
          },
          "metadata": {},
          "execution_count": 39
        }
      ]
    },
    {
      "cell_type": "code",
      "source": [
        "def merge_pair(pair_to_merge:tuple, splits:dict)->list:\n",
        "    new_splits = {}\n",
        "    (first, second) = pair_to_merge\n",
        "    merged_token = first + second\n",
        "    for word_tuple, freq in splits.items():\n",
        "        symbols = list(word_tuple)\n",
        "        new_symbols = []\n",
        "        i = 0\n",
        "        while i < len(symbols):\n",
        "            if i < len(symbols) - 1 and symbols[i] == first and symbols[i+1] == second:\n",
        "                new_symbols.append(merged_token)\n",
        "                i += 2\n",
        "            else:\n",
        "                new_symbols.append(symbols[i])\n",
        "                i += 1\n",
        "        new_splits[tuple(new_symbols)] = freq\n",
        "    return new_splits\n"
      ],
      "metadata": {
        "id": "xSM_GPa0pnB7"
      },
      "execution_count": 10,
      "outputs": []
    },
    {
      "cell_type": "code",
      "source": [
        "num_merges = 15\n",
        "# Stores merge rules, e.g., {('a', 'b'): 'ab'}\n",
        "# Example: {('T', 'h'): 'Th'}\n",
        "merges = {}\n",
        "# Initial word splits: {('T', 'h', 'i', 's', '</w>'): 2, ('i', 's', '</w>'): 2, ...}\n",
        "current_splits = word_splits.copy() # Start with initial word splits\n",
        "\n",
        "print(\"\\n--- Starting BPE Merges ---\")\n",
        "print('Initial Splits:')\n",
        "print(*list(islice(current_splits, 10)), sep='\\n')\n",
        "print(\"-\" * 30)"
      ],
      "metadata": {
        "id": "4HtpKAZ59sYr",
        "outputId": "f4d9583f-54a9-41e6-b7ba-a31f76515899",
        "colab": {
          "base_uri": "https://localhost:8080/"
        }
      },
      "execution_count": 19,
      "outputs": [
        {
          "output_type": "stream",
          "name": "stdout",
          "text": [
            "\n",
            "--- Starting BPE Merges ---\n",
            "Initial Splits:\n",
            "('O', 'v', 'e', 'r', '/w')\n",
            "('m', 'a', 'n', 'y', '/w')\n",
            "('m', 'i', 's', 's', 'i', 'o', 'n', 's', '/w')\n",
            "('a', 'n', 'd', '/w')\n",
            "('a', 'g', 'a', 'i', 'n', 's', 't', '/w')\n",
            "('i', 'm', 'p', 'o', 's', 's', 'i', 'b', 'l', 'e', '/w')\n",
            "('o', 'd', 'd', 's', ',', '/w')\n",
            "('D', 'o', 'm', '/w')\n",
            "('T', 'o', 'r', 'e', 't', 't', 'o', '/w')\n",
            "('h', 'i', 's', '/w')\n",
            "------------------------------\n"
          ]
        }
      ]
    },
    {
      "cell_type": "code",
      "source": [
        "corpus[0]"
      ],
      "metadata": {
        "id": "lpWFN_B2P_Ne",
        "outputId": "6068e704-749b-4c7d-b5fa-460bbaaa2904",
        "colab": {
          "base_uri": "https://localhost:8080/",
          "height": 70
        }
      },
      "execution_count": 17,
      "outputs": [
        {
          "output_type": "execute_result",
          "data": {
            "text/plain": [
              "\"Over many missions and against impossible odds, Dom Toretto and his family have outsmarted, out-nerved and outdriven every foe in their path. Now, they confront the most lethal opponent they've ever faced: A terrifying threat emerging from the shadows of the past who's fueled by blood revenge, and who is determined to shatter this family and destroy everything—and everyone—that Dom loves, forever.\""
            ],
            "application/vnd.google.colaboratory.intrinsic+json": {
              "type": "string"
            }
          },
          "metadata": {},
          "execution_count": 17
        }
      ]
    },
    {
      "cell_type": "code",
      "source": [
        "for i, word in enumerate(corpus[0].split()):\n",
        "    print(tuple(list(word)+[end_of_word]))\n",
        "    if i>9: break"
      ],
      "metadata": {
        "id": "9E1YO4hAQjnz",
        "outputId": "6c628ea1-efd9-4f26-9354-08554a1f030b",
        "colab": {
          "base_uri": "https://localhost:8080/"
        }
      },
      "execution_count": 33,
      "outputs": [
        {
          "output_type": "stream",
          "name": "stdout",
          "text": [
            "('O', 'v', 'e', 'r', '/w')\n",
            "('m', 'a', 'n', 'y', '/w')\n",
            "('m', 'i', 's', 's', 'i', 'o', 'n', 's', '/w')\n",
            "('a', 'n', 'd', '/w')\n",
            "('a', 'g', 'a', 'i', 'n', 's', 't', '/w')\n",
            "('i', 'm', 'p', 'o', 's', 's', 'i', 'b', 'l', 'e', '/w')\n",
            "('o', 'd', 'd', 's', ',', '/w')\n",
            "('D', 'o', 'm', '/w')\n",
            "('T', 'o', 'r', 'e', 't', 't', 'o', '/w')\n",
            "('a', 'n', 'd', '/w')\n",
            "('h', 'i', 's', '/w')\n"
          ]
        }
      ]
    },
    {
      "cell_type": "code",
      "source": [],
      "metadata": {
        "id": "qWwP5oVmQvMl"
      },
      "execution_count": null,
      "outputs": []
    }
  ]
}