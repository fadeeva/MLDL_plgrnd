{
  "nbformat": 4,
  "nbformat_minor": 0,
  "metadata": {
    "colab": {
      "provenance": [],
      "gpuType": "T4",
      "authorship_tag": "ABX9TyM+bMcB7CoOlzOz7E66ZrCo"
    },
    "kernelspec": {
      "name": "python3",
      "display_name": "Python 3"
    },
    "language_info": {
      "name": "python"
    },
    "accelerator": "GPU"
  },
  "cells": [
    {
      "cell_type": "code",
      "execution_count": 2,
      "metadata": {
        "id": "hjnMl16xX5bQ"
      },
      "outputs": [],
      "source": [
        "from transformers import pipeline\n",
        "\n",
        "import numpy as np\n",
        "import pandas as pd\n",
        "\n",
        "from google.colab import userdata\n",
        "HF = userdata.get('HF_TOKEN')"
      ]
    },
    {
      "cell_type": "code",
      "source": [
        "from huggingface_hub import login\n",
        "login(HF)"
      ],
      "metadata": {
        "id": "GbmAjOy8cxJW"
      },
      "execution_count": 3,
      "outputs": []
    },
    {
      "cell_type": "code",
      "source": [
        "import kagglehub\n",
        "\n",
        "# Download latest version\n",
        "path = kagglehub.dataset_download(\"manashjyotiborah/top-10000-movies-hosted-on-tmdb\")\n",
        "\n",
        "print(\"Path to dataset files:\", path)"
      ],
      "metadata": {
        "colab": {
          "base_uri": "https://localhost:8080/"
        },
        "id": "CEirFc_oZdMB",
        "outputId": "4e6e073b-50f4-48ea-ffa8-9a543f31545e"
      },
      "execution_count": 4,
      "outputs": [
        {
          "output_type": "stream",
          "name": "stdout",
          "text": [
            "Downloading from https://www.kaggle.com/api/v1/datasets/download/manashjyotiborah/top-10000-movies-hosted-on-tmdb?dataset_version_number=2...\n"
          ]
        },
        {
          "output_type": "stream",
          "name": "stderr",
          "text": [
            "100%|██████████| 16.9M/16.9M [00:01<00:00, 9.73MB/s]"
          ]
        },
        {
          "output_type": "stream",
          "name": "stdout",
          "text": [
            "Extracting files...\n"
          ]
        },
        {
          "output_type": "stream",
          "name": "stderr",
          "text": [
            "\n"
          ]
        },
        {
          "output_type": "stream",
          "name": "stdout",
          "text": [
            "Path to dataset files: /root/.cache/kagglehub/datasets/manashjyotiborah/top-10000-movies-hosted-on-tmdb/versions/2\n"
          ]
        }
      ]
    },
    {
      "cell_type": "code",
      "source": [
        "keywords_df = pd.read_csv(f'{path}/keywords_dataframe.csv', index_col='id')\n",
        "mov_df = pd.read_csv(f'{path}/movies_dataset.csv', index_col='id')\n",
        "\n",
        "keywords_df.drop(['Unnamed: 0'], axis=1, inplace=True)\n",
        "\n",
        "movies_df = mov_df.merge(keywords_df, on='id')\n",
        "movies_df['release_date'] = pd.to_datetime(movies_df['release_date'])\n",
        "\n",
        "movies_df.head()"
      ],
      "metadata": {
        "colab": {
          "base_uri": "https://localhost:8080/",
          "height": 342
        },
        "id": "9_r71QtUZj58",
        "outputId": "b3cd2a76-96ef-4948-dd19-3d4c177be0e7"
      },
      "execution_count": 5,
      "outputs": [
        {
          "output_type": "execute_result",
          "data": {
            "text/plain": [
              "                      genre_ids original_language  \\\n",
              "id                                                  \n",
              "385687             [28, 80, 53]                en   \n",
              "697843                 [28, 53]                en   \n",
              "603692             [28, 53, 80]                en   \n",
              "569094        [28, 12, 16, 878]                en   \n",
              "502356  [16, 10751, 12, 14, 35]                en   \n",
              "\n",
              "                                                 overview  popularity  \\\n",
              "id                                                                      \n",
              "385687  Over many missions and against impossible odds...    4654.279   \n",
              "697843  Tasked with extracting a family who is at the ...    2494.010   \n",
              "603692  With the price on his head ever increasing, Jo...    1920.127   \n",
              "569094  After reuniting with Gwen Stacy, Brooklyn’s fu...    2013.795   \n",
              "502356  While working underground to fix a water main,...    1539.037   \n",
              "\n",
              "       release_date                                title  vote_average  \\\n",
              "id                                                                       \n",
              "385687   2023-05-17                               Fast X           7.3   \n",
              "697843   2023-06-09                         Extraction 2           7.7   \n",
              "603692   2023-03-22                 John Wick: Chapter 4           7.9   \n",
              "569094   2023-05-31  Spider-Man: Across the Spider-Verse           8.6   \n",
              "502356   2023-04-05          The Super Mario Bros. Movie           7.8   \n",
              "\n",
              "        vote_count                                         genres  \\\n",
              "id                                                                  \n",
              "385687        2093                        Action, Crime, Thriller   \n",
              "697843         910                               Action, Thriller   \n",
              "603692        3344                        Action, Thriller, Crime   \n",
              "569094        1796  Action, Adventure, Animation, Science Fiction   \n",
              "502356        5165  Animation, Family, Adventure, Fantasy, Comedy   \n",
              "\n",
              "                                                 keywords  \n",
              "id                                                         \n",
              "385687  [{'id': 9663, 'name': 'sequel'}, {'id': 9748, ...  \n",
              "697843  [{'id': 3070, 'name': 'mercenary'}, {'id': 966...  \n",
              "603692  [{'id': 242, 'name': 'new york city'}, {'id': ...  \n",
              "569094  [{'id': 2858, 'name': 'sacrifice'}, {'id': 328...  \n",
              "502356  [{'id': 282, 'name': 'video game'}, {'id': 690...  "
            ],
            "text/html": [
              "\n",
              "  <div id=\"df-6fb774fd-6078-4ebb-bac8-88699361e0f0\" class=\"colab-df-container\">\n",
              "    <div>\n",
              "<style scoped>\n",
              "    .dataframe tbody tr th:only-of-type {\n",
              "        vertical-align: middle;\n",
              "    }\n",
              "\n",
              "    .dataframe tbody tr th {\n",
              "        vertical-align: top;\n",
              "    }\n",
              "\n",
              "    .dataframe thead th {\n",
              "        text-align: right;\n",
              "    }\n",
              "</style>\n",
              "<table border=\"1\" class=\"dataframe\">\n",
              "  <thead>\n",
              "    <tr style=\"text-align: right;\">\n",
              "      <th></th>\n",
              "      <th>genre_ids</th>\n",
              "      <th>original_language</th>\n",
              "      <th>overview</th>\n",
              "      <th>popularity</th>\n",
              "      <th>release_date</th>\n",
              "      <th>title</th>\n",
              "      <th>vote_average</th>\n",
              "      <th>vote_count</th>\n",
              "      <th>genres</th>\n",
              "      <th>keywords</th>\n",
              "    </tr>\n",
              "    <tr>\n",
              "      <th>id</th>\n",
              "      <th></th>\n",
              "      <th></th>\n",
              "      <th></th>\n",
              "      <th></th>\n",
              "      <th></th>\n",
              "      <th></th>\n",
              "      <th></th>\n",
              "      <th></th>\n",
              "      <th></th>\n",
              "      <th></th>\n",
              "    </tr>\n",
              "  </thead>\n",
              "  <tbody>\n",
              "    <tr>\n",
              "      <th>385687</th>\n",
              "      <td>[28, 80, 53]</td>\n",
              "      <td>en</td>\n",
              "      <td>Over many missions and against impossible odds...</td>\n",
              "      <td>4654.279</td>\n",
              "      <td>2023-05-17</td>\n",
              "      <td>Fast X</td>\n",
              "      <td>7.3</td>\n",
              "      <td>2093</td>\n",
              "      <td>Action, Crime, Thriller</td>\n",
              "      <td>[{'id': 9663, 'name': 'sequel'}, {'id': 9748, ...</td>\n",
              "    </tr>\n",
              "    <tr>\n",
              "      <th>697843</th>\n",
              "      <td>[28, 53]</td>\n",
              "      <td>en</td>\n",
              "      <td>Tasked with extracting a family who is at the ...</td>\n",
              "      <td>2494.010</td>\n",
              "      <td>2023-06-09</td>\n",
              "      <td>Extraction 2</td>\n",
              "      <td>7.7</td>\n",
              "      <td>910</td>\n",
              "      <td>Action, Thriller</td>\n",
              "      <td>[{'id': 3070, 'name': 'mercenary'}, {'id': 966...</td>\n",
              "    </tr>\n",
              "    <tr>\n",
              "      <th>603692</th>\n",
              "      <td>[28, 53, 80]</td>\n",
              "      <td>en</td>\n",
              "      <td>With the price on his head ever increasing, Jo...</td>\n",
              "      <td>1920.127</td>\n",
              "      <td>2023-03-22</td>\n",
              "      <td>John Wick: Chapter 4</td>\n",
              "      <td>7.9</td>\n",
              "      <td>3344</td>\n",
              "      <td>Action, Thriller, Crime</td>\n",
              "      <td>[{'id': 242, 'name': 'new york city'}, {'id': ...</td>\n",
              "    </tr>\n",
              "    <tr>\n",
              "      <th>569094</th>\n",
              "      <td>[28, 12, 16, 878]</td>\n",
              "      <td>en</td>\n",
              "      <td>After reuniting with Gwen Stacy, Brooklyn’s fu...</td>\n",
              "      <td>2013.795</td>\n",
              "      <td>2023-05-31</td>\n",
              "      <td>Spider-Man: Across the Spider-Verse</td>\n",
              "      <td>8.6</td>\n",
              "      <td>1796</td>\n",
              "      <td>Action, Adventure, Animation, Science Fiction</td>\n",
              "      <td>[{'id': 2858, 'name': 'sacrifice'}, {'id': 328...</td>\n",
              "    </tr>\n",
              "    <tr>\n",
              "      <th>502356</th>\n",
              "      <td>[16, 10751, 12, 14, 35]</td>\n",
              "      <td>en</td>\n",
              "      <td>While working underground to fix a water main,...</td>\n",
              "      <td>1539.037</td>\n",
              "      <td>2023-04-05</td>\n",
              "      <td>The Super Mario Bros. Movie</td>\n",
              "      <td>7.8</td>\n",
              "      <td>5165</td>\n",
              "      <td>Animation, Family, Adventure, Fantasy, Comedy</td>\n",
              "      <td>[{'id': 282, 'name': 'video game'}, {'id': 690...</td>\n",
              "    </tr>\n",
              "  </tbody>\n",
              "</table>\n",
              "</div>\n",
              "    <div class=\"colab-df-buttons\">\n",
              "\n",
              "  <div class=\"colab-df-container\">\n",
              "    <button class=\"colab-df-convert\" onclick=\"convertToInteractive('df-6fb774fd-6078-4ebb-bac8-88699361e0f0')\"\n",
              "            title=\"Convert this dataframe to an interactive table.\"\n",
              "            style=\"display:none;\">\n",
              "\n",
              "  <svg xmlns=\"http://www.w3.org/2000/svg\" height=\"24px\" viewBox=\"0 -960 960 960\">\n",
              "    <path d=\"M120-120v-720h720v720H120Zm60-500h600v-160H180v160Zm220 220h160v-160H400v160Zm0 220h160v-160H400v160ZM180-400h160v-160H180v160Zm440 0h160v-160H620v160ZM180-180h160v-160H180v160Zm440 0h160v-160H620v160Z\"/>\n",
              "  </svg>\n",
              "    </button>\n",
              "\n",
              "  <style>\n",
              "    .colab-df-container {\n",
              "      display:flex;\n",
              "      gap: 12px;\n",
              "    }\n",
              "\n",
              "    .colab-df-convert {\n",
              "      background-color: #E8F0FE;\n",
              "      border: none;\n",
              "      border-radius: 50%;\n",
              "      cursor: pointer;\n",
              "      display: none;\n",
              "      fill: #1967D2;\n",
              "      height: 32px;\n",
              "      padding: 0 0 0 0;\n",
              "      width: 32px;\n",
              "    }\n",
              "\n",
              "    .colab-df-convert:hover {\n",
              "      background-color: #E2EBFA;\n",
              "      box-shadow: 0px 1px 2px rgba(60, 64, 67, 0.3), 0px 1px 3px 1px rgba(60, 64, 67, 0.15);\n",
              "      fill: #174EA6;\n",
              "    }\n",
              "\n",
              "    .colab-df-buttons div {\n",
              "      margin-bottom: 4px;\n",
              "    }\n",
              "\n",
              "    [theme=dark] .colab-df-convert {\n",
              "      background-color: #3B4455;\n",
              "      fill: #D2E3FC;\n",
              "    }\n",
              "\n",
              "    [theme=dark] .colab-df-convert:hover {\n",
              "      background-color: #434B5C;\n",
              "      box-shadow: 0px 1px 3px 1px rgba(0, 0, 0, 0.15);\n",
              "      filter: drop-shadow(0px 1px 2px rgba(0, 0, 0, 0.3));\n",
              "      fill: #FFFFFF;\n",
              "    }\n",
              "  </style>\n",
              "\n",
              "    <script>\n",
              "      const buttonEl =\n",
              "        document.querySelector('#df-6fb774fd-6078-4ebb-bac8-88699361e0f0 button.colab-df-convert');\n",
              "      buttonEl.style.display =\n",
              "        google.colab.kernel.accessAllowed ? 'block' : 'none';\n",
              "\n",
              "      async function convertToInteractive(key) {\n",
              "        const element = document.querySelector('#df-6fb774fd-6078-4ebb-bac8-88699361e0f0');\n",
              "        const dataTable =\n",
              "          await google.colab.kernel.invokeFunction('convertToInteractive',\n",
              "                                                    [key], {});\n",
              "        if (!dataTable) return;\n",
              "\n",
              "        const docLinkHtml = 'Like what you see? Visit the ' +\n",
              "          '<a target=\"_blank\" href=https://colab.research.google.com/notebooks/data_table.ipynb>data table notebook</a>'\n",
              "          + ' to learn more about interactive tables.';\n",
              "        element.innerHTML = '';\n",
              "        dataTable['output_type'] = 'display_data';\n",
              "        await google.colab.output.renderOutput(dataTable, element);\n",
              "        const docLink = document.createElement('div');\n",
              "        docLink.innerHTML = docLinkHtml;\n",
              "        element.appendChild(docLink);\n",
              "      }\n",
              "    </script>\n",
              "  </div>\n",
              "\n",
              "\n",
              "    <div id=\"df-0071952d-db5d-431b-b2a1-28b28814ffcc\">\n",
              "      <button class=\"colab-df-quickchart\" onclick=\"quickchart('df-0071952d-db5d-431b-b2a1-28b28814ffcc')\"\n",
              "                title=\"Suggest charts\"\n",
              "                style=\"display:none;\">\n",
              "\n",
              "<svg xmlns=\"http://www.w3.org/2000/svg\" height=\"24px\"viewBox=\"0 0 24 24\"\n",
              "     width=\"24px\">\n",
              "    <g>\n",
              "        <path d=\"M19 3H5c-1.1 0-2 .9-2 2v14c0 1.1.9 2 2 2h14c1.1 0 2-.9 2-2V5c0-1.1-.9-2-2-2zM9 17H7v-7h2v7zm4 0h-2V7h2v10zm4 0h-2v-4h2v4z\"/>\n",
              "    </g>\n",
              "</svg>\n",
              "      </button>\n",
              "\n",
              "<style>\n",
              "  .colab-df-quickchart {\n",
              "      --bg-color: #E8F0FE;\n",
              "      --fill-color: #1967D2;\n",
              "      --hover-bg-color: #E2EBFA;\n",
              "      --hover-fill-color: #174EA6;\n",
              "      --disabled-fill-color: #AAA;\n",
              "      --disabled-bg-color: #DDD;\n",
              "  }\n",
              "\n",
              "  [theme=dark] .colab-df-quickchart {\n",
              "      --bg-color: #3B4455;\n",
              "      --fill-color: #D2E3FC;\n",
              "      --hover-bg-color: #434B5C;\n",
              "      --hover-fill-color: #FFFFFF;\n",
              "      --disabled-bg-color: #3B4455;\n",
              "      --disabled-fill-color: #666;\n",
              "  }\n",
              "\n",
              "  .colab-df-quickchart {\n",
              "    background-color: var(--bg-color);\n",
              "    border: none;\n",
              "    border-radius: 50%;\n",
              "    cursor: pointer;\n",
              "    display: none;\n",
              "    fill: var(--fill-color);\n",
              "    height: 32px;\n",
              "    padding: 0;\n",
              "    width: 32px;\n",
              "  }\n",
              "\n",
              "  .colab-df-quickchart:hover {\n",
              "    background-color: var(--hover-bg-color);\n",
              "    box-shadow: 0 1px 2px rgba(60, 64, 67, 0.3), 0 1px 3px 1px rgba(60, 64, 67, 0.15);\n",
              "    fill: var(--button-hover-fill-color);\n",
              "  }\n",
              "\n",
              "  .colab-df-quickchart-complete:disabled,\n",
              "  .colab-df-quickchart-complete:disabled:hover {\n",
              "    background-color: var(--disabled-bg-color);\n",
              "    fill: var(--disabled-fill-color);\n",
              "    box-shadow: none;\n",
              "  }\n",
              "\n",
              "  .colab-df-spinner {\n",
              "    border: 2px solid var(--fill-color);\n",
              "    border-color: transparent;\n",
              "    border-bottom-color: var(--fill-color);\n",
              "    animation:\n",
              "      spin 1s steps(1) infinite;\n",
              "  }\n",
              "\n",
              "  @keyframes spin {\n",
              "    0% {\n",
              "      border-color: transparent;\n",
              "      border-bottom-color: var(--fill-color);\n",
              "      border-left-color: var(--fill-color);\n",
              "    }\n",
              "    20% {\n",
              "      border-color: transparent;\n",
              "      border-left-color: var(--fill-color);\n",
              "      border-top-color: var(--fill-color);\n",
              "    }\n",
              "    30% {\n",
              "      border-color: transparent;\n",
              "      border-left-color: var(--fill-color);\n",
              "      border-top-color: var(--fill-color);\n",
              "      border-right-color: var(--fill-color);\n",
              "    }\n",
              "    40% {\n",
              "      border-color: transparent;\n",
              "      border-right-color: var(--fill-color);\n",
              "      border-top-color: var(--fill-color);\n",
              "    }\n",
              "    60% {\n",
              "      border-color: transparent;\n",
              "      border-right-color: var(--fill-color);\n",
              "    }\n",
              "    80% {\n",
              "      border-color: transparent;\n",
              "      border-right-color: var(--fill-color);\n",
              "      border-bottom-color: var(--fill-color);\n",
              "    }\n",
              "    90% {\n",
              "      border-color: transparent;\n",
              "      border-bottom-color: var(--fill-color);\n",
              "    }\n",
              "  }\n",
              "</style>\n",
              "\n",
              "      <script>\n",
              "        async function quickchart(key) {\n",
              "          const quickchartButtonEl =\n",
              "            document.querySelector('#' + key + ' button');\n",
              "          quickchartButtonEl.disabled = true;  // To prevent multiple clicks.\n",
              "          quickchartButtonEl.classList.add('colab-df-spinner');\n",
              "          try {\n",
              "            const charts = await google.colab.kernel.invokeFunction(\n",
              "                'suggestCharts', [key], {});\n",
              "          } catch (error) {\n",
              "            console.error('Error during call to suggestCharts:', error);\n",
              "          }\n",
              "          quickchartButtonEl.classList.remove('colab-df-spinner');\n",
              "          quickchartButtonEl.classList.add('colab-df-quickchart-complete');\n",
              "        }\n",
              "        (() => {\n",
              "          let quickchartButtonEl =\n",
              "            document.querySelector('#df-0071952d-db5d-431b-b2a1-28b28814ffcc button');\n",
              "          quickchartButtonEl.style.display =\n",
              "            google.colab.kernel.accessAllowed ? 'block' : 'none';\n",
              "        })();\n",
              "      </script>\n",
              "    </div>\n",
              "    </div>\n",
              "  </div>\n"
            ],
            "application/vnd.google.colaboratory.intrinsic+json": {
              "type": "dataframe",
              "variable_name": "movies_df",
              "summary": "{\n  \"name\": \"movies_df\",\n  \"rows\": 10088,\n  \"fields\": [\n    {\n      \"column\": \"id\",\n      \"properties\": {\n        \"dtype\": \"number\",\n        \"std\": 295919,\n        \"min\": 5,\n        \"max\": 1141899,\n        \"num_unique_values\": 9957,\n        \"samples\": [\n          16555,\n          21956,\n          318781\n        ],\n        \"semantic_type\": \"\",\n        \"description\": \"\"\n      }\n    },\n    {\n      \"column\": \"genre_ids\",\n      \"properties\": {\n        \"dtype\": \"category\",\n        \"num_unique_values\": 2241,\n        \"samples\": [\n          \"[28, 35, 80, 18, 53]\",\n          \"[10749, 27, 35, 53]\",\n          \"[28, 80, 18, 9648]\"\n        ],\n        \"semantic_type\": \"\",\n        \"description\": \"\"\n      }\n    },\n    {\n      \"column\": \"original_language\",\n      \"properties\": {\n        \"dtype\": \"category\",\n        \"num_unique_values\": 1,\n        \"samples\": [\n          \"en\"\n        ],\n        \"semantic_type\": \"\",\n        \"description\": \"\"\n      }\n    },\n    {\n      \"column\": \"overview\",\n      \"properties\": {\n        \"dtype\": \"string\",\n        \"num_unique_values\": 9952,\n        \"samples\": [\n          \"The Turtles and the Shredder battle once again, this time for the last cannister of the ooze that created the Turtles, which Shredder wants to create an army of new mutants.\"\n        ],\n        \"semantic_type\": \"\",\n        \"description\": \"\"\n      }\n    },\n    {\n      \"column\": \"popularity\",\n      \"properties\": {\n        \"dtype\": \"number\",\n        \"std\": 75.22629352923424,\n        \"min\": 7.007,\n        \"max\": 4654.279,\n        \"num_unique_values\": 7951,\n        \"samples\": [\n          36.302\n        ],\n        \"semantic_type\": \"\",\n        \"description\": \"\"\n      }\n    },\n    {\n      \"column\": \"release_date\",\n      \"properties\": {\n        \"dtype\": \"date\",\n        \"min\": \"1903-12-07 00:00:00\",\n        \"max\": \"2031-12-17 00:00:00\",\n        \"num_unique_values\": 6137,\n        \"samples\": [\n          \"2012-08-31 00:00:00\"\n        ],\n        \"semantic_type\": \"\",\n        \"description\": \"\"\n      }\n    },\n    {\n      \"column\": \"title\",\n      \"properties\": {\n        \"dtype\": \"string\",\n        \"num_unique_values\": 9588,\n        \"samples\": [\n          \"The Odd Life of Timothy Green\"\n        ],\n        \"semantic_type\": \"\",\n        \"description\": \"\"\n      }\n    },\n    {\n      \"column\": \"vote_average\",\n      \"properties\": {\n        \"dtype\": \"number\",\n        \"std\": 1.1351049150266976,\n        \"min\": 0.0,\n        \"max\": 10.0,\n        \"num_unique_values\": 71,\n        \"samples\": [\n          4.6\n        ],\n        \"semantic_type\": \"\",\n        \"description\": \"\"\n      }\n    },\n    {\n      \"column\": \"vote_count\",\n      \"properties\": {\n        \"dtype\": \"number\",\n        \"std\": 2850,\n        \"min\": 0,\n        \"max\": 33892,\n        \"num_unique_values\": 3446,\n        \"samples\": [\n          74\n        ],\n        \"semantic_type\": \"\",\n        \"description\": \"\"\n      }\n    },\n    {\n      \"column\": \"genres\",\n      \"properties\": {\n        \"dtype\": \"category\",\n        \"num_unique_values\": 2240,\n        \"samples\": [\n          \"Action, Science Fiction, Thriller\"\n        ],\n        \"semantic_type\": \"\",\n        \"description\": \"\"\n      }\n    },\n    {\n      \"column\": \"keywords\",\n      \"properties\": {\n        \"dtype\": \"string\",\n        \"num_unique_values\": 9015,\n        \"samples\": [\n          \"[{'id': 824, 'name': 'drag queen'}, {'id': 1415, 'name': 'small town'}, {'id': 1556, 'name': 'texas'}, {'id': 4108, 'name': 'protest'}, {'id': 4344, 'name': 'musical'}, {'id': 191583, 'name': 'beauty pageant'}, {'id': 246466, 'name': 'based on young adult novel'}, {'id': 249703, 'name': 'plus size'}, {'id': 249704, 'name': 'fat shaming'}, {'id': 259596, 'name': 'fat acceptance'}, {'id': 317671, 'name': 'dolly parton'}]\"\n        ],\n        \"semantic_type\": \"\",\n        \"description\": \"\"\n      }\n    }\n  ]\n}"
            }
          },
          "metadata": {},
          "execution_count": 5
        }
      ]
    },
    {
      "cell_type": "code",
      "source": [
        "movies_df.dropna(axis=0, inplace=True)"
      ],
      "metadata": {
        "id": "D6n1G8Ipt9Lx"
      },
      "execution_count": 15,
      "outputs": []
    },
    {
      "cell_type": "code",
      "source": [
        "genres_list = list(movies_df['genres'].unique())\n",
        "gl = []\n",
        "for g in genres_list:\n",
        "    try:\n",
        "        gl.extend(g.split(', '))\n",
        "    except:\n",
        "        continue\n",
        "\n",
        "GENRES = list(set(gl))\n",
        "GENRES"
      ],
      "metadata": {
        "colab": {
          "base_uri": "https://localhost:8080/"
        },
        "id": "zoYsjCXLaeWO",
        "outputId": "627ce99d-3b81-4299-bd05-0fc1f8fca4ca"
      },
      "execution_count": 6,
      "outputs": [
        {
          "output_type": "execute_result",
          "data": {
            "text/plain": [
              "['Adventure',\n",
              " 'Fantasy',\n",
              " 'Music',\n",
              " 'Thriller',\n",
              " 'Horror',\n",
              " 'Drama',\n",
              " 'Action',\n",
              " 'Western',\n",
              " 'Animation',\n",
              " 'Mystery',\n",
              " 'History',\n",
              " 'Romance',\n",
              " 'Crime',\n",
              " 'Family',\n",
              " 'War',\n",
              " 'Documentary',\n",
              " 'Comedy',\n",
              " 'TV Movie',\n",
              " 'Science Fiction']"
            ]
          },
          "metadata": {},
          "execution_count": 6
        }
      ]
    },
    {
      "cell_type": "code",
      "source": [
        "data = movies_df[['overview', 'genres']].copy()"
      ],
      "metadata": {
        "id": "mahAEupbbTHW"
      },
      "execution_count": 18,
      "outputs": []
    },
    {
      "cell_type": "code",
      "source": [
        "classifier = pipeline(\"zero-shot-classification\")\n",
        "result = classifier(\n",
        "    data['overview'].to_list()[:300],\n",
        "    candidate_labels=GENRES,\n",
        ")"
      ],
      "metadata": {
        "colab": {
          "base_uri": "https://localhost:8080/"
        },
        "id": "Id7NhkF-YBkj",
        "outputId": "6f1f42f2-e328-4fd9-83f0-1cda22ea86f8"
      },
      "execution_count": 20,
      "outputs": [
        {
          "output_type": "stream",
          "name": "stderr",
          "text": [
            "No model was supplied, defaulted to facebook/bart-large-mnli and revision d7645e1 (https://huggingface.co/facebook/bart-large-mnli).\n",
            "Using a pipeline without specifying a model name and revision in production is not recommended.\n",
            "Device set to use cuda:0\n"
          ]
        }
      ]
    },
    {
      "cell_type": "code",
      "source": [
        "import pickle\n",
        "\n",
        "with open('result.pickle', 'wb') as f:\n",
        "    pickle.dump(result, f, pickle.HIGHEST_PROTOCOL)"
      ],
      "metadata": {
        "id": "Sj1IArtnxNqe"
      },
      "execution_count": 22,
      "outputs": []
    },
    {
      "cell_type": "code",
      "source": [
        "result[0]"
      ],
      "metadata": {
        "colab": {
          "base_uri": "https://localhost:8080/"
        },
        "id": "f26hpWtebeXU",
        "outputId": "ffacb133-47a0-4690-94ae-1c662a5f8543"
      },
      "execution_count": 21,
      "outputs": [
        {
          "output_type": "execute_result",
          "data": {
            "text/plain": [
              "{'sequence': \"Over many missions and against impossible odds, Dom Toretto and his family have outsmarted, out-nerved and outdriven every foe in their path. Now, they confront the most lethal opponent they've ever faced: A terrifying threat emerging from the shadows of the past who's fueled by blood revenge, and who is determined to shatter this family and destroy everything—and everyone—that Dom loves, forever.\",\n",
              " 'labels': ['Family',\n",
              "  'Adventure',\n",
              "  'Crime',\n",
              "  'Drama',\n",
              "  'Documentary',\n",
              "  'War',\n",
              "  'Mystery',\n",
              "  'Western',\n",
              "  'Action',\n",
              "  'History',\n",
              "  'Thriller',\n",
              "  'Romance',\n",
              "  'Horror',\n",
              "  'Music',\n",
              "  'TV Movie',\n",
              "  'Animation',\n",
              "  'Fantasy',\n",
              "  'Science Fiction',\n",
              "  'Comedy'],\n",
              " 'scores': [0.5393787622451782,\n",
              "  0.05868272855877876,\n",
              "  0.03785441070795059,\n",
              "  0.036856018006801605,\n",
              "  0.03238692507147789,\n",
              "  0.029787633568048477,\n",
              "  0.0294906385242939,\n",
              "  0.027093758806586266,\n",
              "  0.026329142972826958,\n",
              "  0.025958450511097908,\n",
              "  0.0247113686054945,\n",
              "  0.02446248196065426,\n",
              "  0.021078281104564667,\n",
              "  0.017419468611478806,\n",
              "  0.017317835241556168,\n",
              "  0.017055748030543327,\n",
              "  0.013359518721699715,\n",
              "  0.01165830809623003,\n",
              "  0.009118452668190002]}"
            ]
          },
          "metadata": {},
          "execution_count": 21
        }
      ]
    },
    {
      "cell_type": "code",
      "source": [
        "labels[0]"
      ],
      "metadata": {
        "colab": {
          "base_uri": "https://localhost:8080/",
          "height": 35
        },
        "id": "f1kxGc9_duGR",
        "outputId": "0614c4f1-efa8-43f4-8ef6-4be3821f86bd"
      },
      "execution_count": null,
      "outputs": [
        {
          "output_type": "execute_result",
          "data": {
            "text/plain": [
              "'Action, Crime, Thriller'"
            ],
            "application/vnd.google.colaboratory.intrinsic+json": {
              "type": "string"
            }
          },
          "metadata": {},
          "execution_count": 12
        }
      ]
    }
  ]
}